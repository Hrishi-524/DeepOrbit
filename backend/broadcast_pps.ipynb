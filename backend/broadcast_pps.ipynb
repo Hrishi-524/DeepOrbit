{
 "cells": [
  {
   "cell_type": "code",
   "execution_count": 7,
   "id": "31059560",
   "metadata": {},
   "outputs": [],
   "source": [
    "import pandas as pd\n",
    "import georinex as gr\n",
    "\n",
    "nav = gr.load(\"./data/gnss_broadcast/brdc0010.25n.txt\")\n",
    "df = nav.to_dataframe()\n",
    "df.to_csv(\"output.csv\", index=False)"
   ]
  },
  {
   "cell_type": "code",
   "execution_count": 10,
   "id": "a8e64253",
   "metadata": {},
   "outputs": [
    {
     "data": {
      "text/plain": [
       "Index(['SVclockBias', 'SVclockDrift', 'SVclockDriftRate', 'IODE', 'Crs',\n",
       "       'DeltaN', 'M0', 'Cuc', 'Eccentricity', 'Cus', 'sqrtA', 'Toe', 'Cic',\n",
       "       'Omega0', 'Cis', 'Io', 'Crc', 'omega', 'OmegaDot', 'IDOT', 'CodesL2',\n",
       "       'GPSWeek', 'L2Pflag', 'SVacc', 'health', 'TGD', 'IODC', 'TransTime',\n",
       "       'FitIntvl'],\n",
       "      dtype='object')"
      ]
     },
     "execution_count": 10,
     "metadata": {},
     "output_type": "execute_result"
    }
   ],
   "source": [
    "df.columns"
   ]
  },
  {
   "cell_type": "code",
   "execution_count": null,
   "id": "93b9b35e",
   "metadata": {},
   "outputs": [],
   "source": [
    "# calculate x, y, z, position\n"
   ]
  }
 ],
 "metadata": {
  "kernelspec": {
   "display_name": "ml",
   "language": "python",
   "name": "python3"
  },
  "language_info": {
   "codemirror_mode": {
    "name": "ipython",
    "version": 3
   },
   "file_extension": ".py",
   "mimetype": "text/x-python",
   "name": "python",
   "nbconvert_exporter": "python",
   "pygments_lexer": "ipython3",
   "version": "3.11.13"
  }
 },
 "nbformat": 4,
 "nbformat_minor": 5
}
